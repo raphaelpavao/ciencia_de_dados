{
 "cells": [
  {
   "cell_type": "code",
   "execution_count": 4,
   "id": "e40aa5b5",
   "metadata": {},
   "outputs": [
    {
     "name": "stdout",
     "output_type": "stream",
     "text": [
      "Chaves: dict_keys([])\n",
      "Valores: dict_values([])\n"
     ]
    }
   ],
   "source": [
    "# Criando um dicionário\n",
    "info_estudante = {}\n",
    "\n",
    "# Acessando as chaves do dicionário\n",
    "chaves = info_estudante.keys()\n",
    "\n",
    "print(\"Chaves:\", chaves)\n",
    "# Saída: Chaves: dict_keys(['nome', 'idade', 'curso'])\n",
    "\n",
    "# Acessando os valores do dicionário\n",
    "valores = info_estudante.values()\n",
    "\n",
    "print(\"Valores:\", valores)\n",
    "# Saída: Valores: dict_values(['Ana Silva', 22, 'Engenharia de Software'])"
   ]
  },
  {
   "cell_type": "code",
   "execution_count": 6,
   "id": "351a1289",
   "metadata": {},
   "outputs": [
    {
     "name": "stdout",
     "output_type": "stream",
     "text": [
      "{1, 2, 3, 4, 5}\n"
     ]
    }
   ],
   "source": [
    "conjunto_a = {1, 2, 3} \n",
    "conjunto_b = {3, 4, 5} \n",
    "uniao = conjunto_a.union(conjunto_b) \n",
    "print(uniao)\n",
    "# Saída: {1, 2, 3, 4, 5}"
   ]
  },
  {
   "cell_type": "code",
   "execution_count": 9,
   "id": "b167c851",
   "metadata": {},
   "outputs": [],
   "source": [
    "# Usando um dicionário built-in para armazenar informações do livro\n",
    "livros = {\n",
    "'ISBN1': {'título': 'A Arte da Guerra', 'autor': 'Sun Tzu', 'ano': 500},\n",
    "'ISBN2': {'título': '1984', 'autor': 'George Orwell', 'ano': 1949}\n",
    "}\n",
    "\n",
    "# Definindo uma classe personalizada para empréstimos\n",
    "\n",
    "class Emprestimo:\n",
    "    def __init__(self, livro, data_emprestimo, data_devolucao):\n",
    "        self.livro = livro\n",
    "        self.data_emprestimo = data_emprestimo\n",
    "        self.data_devolucao = data_devolucao\n",
    "\n",
    "# Instanciando objetos da classe Emprestimo\n",
    "emprestimo1 = Emprestimo(livros['ISBN1'], '2023-01-01', '2023-01-15')\n",
    "emprestimo2 = Emprestimo(livros['ISBN2'], '2023-02-01', '2023-02-15')"
   ]
  }
 ],
 "metadata": {
  "kernelspec": {
   "display_name": "Python 3",
   "language": "python",
   "name": "python3"
  },
  "language_info": {
   "codemirror_mode": {
    "name": "ipython",
    "version": 3
   },
   "file_extension": ".py",
   "mimetype": "text/x-python",
   "name": "python",
   "nbconvert_exporter": "python",
   "pygments_lexer": "ipython3",
   "version": "3.13.6"
  }
 },
 "nbformat": 4,
 "nbformat_minor": 5
}
