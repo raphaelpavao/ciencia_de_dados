{
 "cells": [
  {
   "cell_type": "code",
   "execution_count": 28,
   "id": "e40aa5b5",
   "metadata": {},
   "outputs": [],
   "source": [
    "class ItemLista:\n",
    "    def __init__(self, data=0, nextItem=None):\n",
    "        self.data = data\n",
    "        self.next = nextItem \n",
    "\n",
    "    def __repr__(self):\n",
    "        return '%s => %s' % (self.data, self.next)\n",
    "\n",
    "class ListaEncadeada:\n",
    "    def __init__(self):\n",
    "        self.head = None\n",
    "    \n",
    "    def __repr__(self):\n",
    "        return \"%s\" % (self.head)\n",
    "    \n",
    "    def insere(self, data):\n",
    "        item = ItemLista(data)\n",
    "        item.next = self.head\n",
    "        self.head = item\n",
    "    \n",
    "    def remove(self, valor):\n",
    "        # Verifica se o item a ser removido é o head\n",
    "        if self.head and self.head.data == valor:\n",
    "            self.head = self.head.next\n",
    "        else:\n",
    "            before = None\n",
    "            navegar = self.head\n",
    "            # Navega pela lista para encontrar o elemento\n",
    "            while navegar and navegar.data != valor:\n",
    "                before = navegar\n",
    "                navegar = navegar.next\n",
    "            # Remove o item se ele for encontrado\n",
    "            if navegar and before:\n",
    "                before.next = navegar.next\n",
    "\n",
    "    def busca(lista, valor):\n",
    "        navegar = lista.head\n",
    "        while navegar and navegar.data != valor:\n",
    "            navegar = navegar.next\n",
    "        return navegar\n"
   ]
  },
  {
   "cell_type": "code",
   "execution_count": 17,
   "id": "564b92d1",
   "metadata": {},
   "outputs": [
    {
     "name": "stdout",
     "output_type": "stream",
     "text": [
      "Conteúdo da lista: None\n",
      "Conteúdo da lista: 10 => None\n",
      "Conteúdo da lista: 20 => 10 => None\n"
     ]
    }
   ],
   "source": [
    "# Cria o objeto\n",
    "lista = ListaEncadeada()\n",
    "print(\"Conteúdo da lista:\", lista) # Deve mostrar os itens inseridos0\n",
    "lista.insere(10)\n",
    "print(\"Conteúdo da lista:\", lista) # Deve mostrar os itens inseridos\n",
    "lista.insere(20)\n",
    "print(\"Conteúdo da lista:\", lista) # Deve mostrar os itens inseridos"
   ]
  },
  {
   "cell_type": "code",
   "execution_count": 14,
   "id": "79e29960",
   "metadata": {},
   "outputs": [
    {
     "name": "stdout",
     "output_type": "stream",
     "text": [
      "20 => 10 => None\n",
      "shampoo => 20 => 10 => None\n",
      "biscoito => shampoo => 20 => 10 => None\n",
      "detergente => biscoito => shampoo => 20 => 10 => None\n",
      "abobrinha  => detergente => biscoito => shampoo => 20 => 10 => None\n",
      "banana => abobrinha  => detergente => biscoito => shampoo => 20 => 10 => None\n"
     ]
    }
   ],
   "source": [
    "# Exemplo de uso\n",
    "print(lista)\n",
    "ListaEncadeada.insere(lista, \"shampoo\")\n",
    "print(lista)\n",
    "ListaEncadeada.insere(lista, \"biscoito\")\n",
    "print(lista)\n",
    "ListaEncadeada.insere(lista, \"detergente\") \n",
    "print(lista)\n",
    "ListaEncadeada.insere(lista, \"abobrinha \")\n",
    "print(lista)\n",
    "ListaEncadeada.insere(lista, \"banana\")\n",
    "print(lista)"
   ]
  },
  {
   "cell_type": "code",
   "execution_count": 33,
   "id": "f1d4a90a",
   "metadata": {},
   "outputs": [
    {
     "name": "stdout",
     "output_type": "stream",
     "text": [
      "pneu => roda => pedal => None\n",
      "pneu => pedal => None\n",
      "pedal => None\n"
     ]
    }
   ],
   "source": [
    "lista = ListaEncadeada()\n",
    "lista.insere('pedal')  # Lista: pedal\n",
    "lista.insere('roda')   # Lista: roda => pedal\n",
    "lista.insere('pneu')   # Lista: pneu => roda => pedal\n",
    "print(lista)           # Deve imprimir: pneu => roda => pedal => None\n",
    "\n",
    "lista.remove('roda')   # Remove o nó com 'roda'\n",
    "print(lista)           # Deve imprimir: pneu => pedal => None\n",
    "\n",
    "resultado = lista.busca('pedal')  # Deve retornar None\n",
    "print(resultado)                 # Imprime: None\n"
   ]
  }
 ],
 "metadata": {
  "kernelspec": {
   "display_name": "Python 3",
   "language": "python",
   "name": "python3"
  },
  "language_info": {
   "codemirror_mode": {
    "name": "ipython",
    "version": 3
   },
   "file_extension": ".py",
   "mimetype": "text/x-python",
   "name": "python",
   "nbconvert_exporter": "python",
   "pygments_lexer": "ipython3",
   "version": "3.13.6"
  }
 },
 "nbformat": 4,
 "nbformat_minor": 5
}
