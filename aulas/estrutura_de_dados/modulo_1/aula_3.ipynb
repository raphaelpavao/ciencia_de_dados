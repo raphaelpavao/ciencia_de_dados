{
 "cells": [
  {
   "cell_type": "code",
   "execution_count": 2,
   "id": "e40aa5b5",
   "metadata": {},
   "outputs": [
    {
     "name": "stdout",
     "output_type": "stream",
     "text": [
      "[4, 1, 5, 1, 6]\n",
      "[4, 1, 5, 1, 6, 10]\n",
      "[4, 1, 5, 1, 6]\n"
     ]
    }
   ],
   "source": [
    "pilha = [4,1,5,1,6]\n",
    "print(pilha)\n",
    "\n",
    "# operação de push com o método append()\n",
    "pilha.append(10)\n",
    "print(pilha) \n",
    "\n",
    "#operação de pop com o método pop()\n",
    "pilha.pop()\n",
    "print(pilha)"
   ]
  },
  {
   "cell_type": "code",
   "execution_count": 3,
   "id": "564b92d1",
   "metadata": {},
   "outputs": [],
   "source": [
    "class Pilha:\n",
    "    def __init__(self):\n",
    "        self.items = []\n",
    "    \n",
    "    def empilhar(self, item):\n",
    "        self.items.append(item) \n",
    "\n",
    "    def desempilhar(self):\n",
    "        if self.items:\n",
    "            return self.items.pop()\n",
    "        return None"
   ]
  },
  {
   "cell_type": "code",
   "execution_count": 15,
   "id": "79e29960",
   "metadata": {},
   "outputs": [
    {
     "name": "stdout",
     "output_type": "stream",
     "text": [
      "[]\n",
      "[1]\n",
      "[1, 2]\n",
      "[1, 2, 3]\n"
     ]
    }
   ],
   "source": [
    "# Exemplo de uso da pilha\n",
    "\n",
    "my_stack = Pilha()\n",
    "print(my_stack.items)\n",
    "\n",
    "my_stack.empilhar(1)\n",
    "print(my_stack.items)\n",
    "\n",
    "my_stack.empilhar(2)\n",
    "print(my_stack.items)\n",
    "\n",
    "my_stack.empilhar(3)\n",
    "print(my_stack.items) \n",
    "\n"
   ]
  },
  {
   "cell_type": "code",
   "execution_count": 16,
   "id": "72e10ea1",
   "metadata": {},
   "outputs": [
    {
     "name": "stdout",
     "output_type": "stream",
     "text": [
      "Elemento removido: 3\n"
     ]
    }
   ],
   "source": [
    "# Removendo elementos\n",
    "print(\"Elemento removido:\", my_stack.desempilhar())"
   ]
  },
  {
   "cell_type": "code",
   "execution_count": 31,
   "id": "26fbf1ce",
   "metadata": {},
   "outputs": [],
   "source": [
    "#\n",
    "class Item:\n",
    "\n",
    "    def __init__(self, valor=None, anterior=None):\n",
    "        self.valor = valor\n",
    "        self.anterior = anterior\n",
    "\n",
    "    def __repr__(self):\n",
    "        return \"%s\\n%s\"% (self.valor, self.anterior)\n",
    "    \n",
    "class Pilha:\n",
    "    def __init__(self):\n",
    "        self.topo = None\n",
    "\n",
    "    def __repr__(self):\n",
    "        return \"TOPO\\n%s\\nRODAPÉ\" % (self.topo)\n",
    "    \n",
    "    def push (self, valor):\n",
    "        # Cria um novo objeto Item\n",
    "        item_novo = Item(valor)\n",
    "        # o anterior passa a ser o antigo topo\n",
    "        item_novo.anterior = self.topo\n",
    "        # o topo da pilha passa a ser o item novo\n",
    "        self.topo = item_novo\n",
    "    \n",
    "    def pop (self): \n",
    "        assert self.topo, \"Erro: pilha vazia.\"\n",
    "        # modifica o valor do topo \n",
    "        self.topo = self.topo.anterior "
   ]
  },
  {
   "cell_type": "code",
   "execution_count": null,
   "id": "88d779c7",
   "metadata": {},
   "outputs": [
    {
     "name": "stdout",
     "output_type": "stream",
     "text": [
      "TOPO\n",
      "d\n",
      "c\n",
      "b\n",
      "a\n",
      "None\n",
      "RODAPÉ\n",
      "TOPO\n",
      "b\n",
      "a\n",
      "None\n",
      "RODAPÉ\n"
     ]
    }
   ],
   "source": [
    "\n",
    "\n",
    "# cria um novo objeto do tipo Pilha\n",
    "pilha = Pilha()\n",
    "\n",
    "# Vamos inserir alguns valores\n",
    "pilha.push('a')\n",
    "pilha.push('b')\n",
    "pilha.push('c')\n",
    "pilha.push('d')\n",
    "\n",
    "print(pilha)\n",
    "\n",
    "# removendo os dois últimos itens\n",
    "pilha.pop() # remove d\n",
    "pilha.pop() # remove c\n",
    "print(pilha)"
   ]
  },
  {
   "cell_type": "code",
   "execution_count": 36,
   "id": "8157c691",
   "metadata": {},
   "outputs": [],
   "source": [
    "# FILAS\n",
    "\n",
    "class Node:\n",
    "    def __init__(self, id):\n",
    "        self.id = id\n",
    "        self.next = None  \n",
    "\n",
    "class Queue:\n",
    "    def __init__(self):\n",
    "        self.head = None\n",
    "        self.tail = None\n",
    "\n",
    "    def enqueue(self, id):\n",
    "        new_node = Node(id)\n",
    "        if self.tail:\n",
    "            self.tail.next = new_node            \n",
    "        self.tail = new_node\n",
    "        if not self.head:\n",
    "            self.head = new_node\n",
    "\n",
    "    def dequeue(self):\n",
    "        if not self.head:\n",
    "            return None\n",
    "        removed_id = self.head.id\n",
    "        self.head = self.head.next\n",
    "        if not self.head:\n",
    "            self.tail = None\n",
    "        return removed_id"
   ]
  },
  {
   "cell_type": "code",
   "execution_count": 44,
   "id": "86466ed5",
   "metadata": {},
   "outputs": [
    {
     "name": "stdout",
     "output_type": "stream",
     "text": [
      "None\n",
      "None\n",
      "Raphael\n",
      "Raphael\n",
      "Raphael\n",
      "Isabella\n",
      "Raphael\n",
      "Tomás\n"
     ]
    }
   ],
   "source": [
    "# Exemplo de uso\n",
    "\n",
    "process_queue = Queue()\n",
    "print(process_queue.head)\n",
    "print(process_queue.tail)\n",
    "\n",
    "process_queue.enqueue('Raphael')\n",
    "print(process_queue.head.id)\n",
    "print(process_queue.tail.id)\n",
    "\n",
    "process_queue.enqueue('Isabella')\n",
    "print(process_queue.head.id)\n",
    "print(process_queue.tail.id)\n",
    "\n",
    "process_queue.enqueue('Tomás')\n",
    "print(process_queue.head.id)\n",
    "print(process_queue.tail.id)\n",
    "\n",
    "process_id = process_queue.dequeue()"
   ]
  }
 ],
 "metadata": {
  "kernelspec": {
   "display_name": "Python 3",
   "language": "python",
   "name": "python3"
  },
  "language_info": {
   "codemirror_mode": {
    "name": "ipython",
    "version": 3
   },
   "file_extension": ".py",
   "mimetype": "text/x-python",
   "name": "python",
   "nbconvert_exporter": "python",
   "pygments_lexer": "ipython3",
   "version": "3.13.6"
  }
 },
 "nbformat": 4,
 "nbformat_minor": 5
}
